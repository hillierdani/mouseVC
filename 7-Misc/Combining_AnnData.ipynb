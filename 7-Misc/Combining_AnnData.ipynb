{
 "cells": [
  {
   "cell_type": "code",
   "execution_count": 2,
   "metadata": {
    "id": "p-fwDMiJr0n4"
   },
   "outputs": [],
   "source": [
    "#Import libraries\n",
    "import numpy as np\n",
    "import pandas as pd\n",
    "import seaborn as sns\n",
    "import scipy.stats as sp\n",
    "import matplotlib as mpl\n",
    "import matplotlib.pyplot as plt\n",
    "from matplotlib import gridspec\n",
    "import xgboost as xgb\n",
    "import pickle\n",
    "from sklearn.metrics import confusion_matrix, adjusted_rand_score\n",
    "import plotly.graph_objects as go\n",
    "from itertools import cycle, islice\n",
    "\n",
    "import scanpy as sc\n",
    "sc.settings.verbosity = 3             # verbosity: errors (0), warnings (1), info (2), hints (3)\n",
    "sc.settings.set_figure_params(dpi=80)"
   ]
  },
  {
   "cell_type": "code",
   "execution_count": 5,
   "metadata": {
    "id": "nwRX1gyBOFN5"
   },
   "outputs": [],
   "source": [
    "#glut_combined_adata = sc.read_h5ad('glut_sub_033121.h5ad')"
   ]
  },
  {
   "cell_type": "code",
   "execution_count": 3,
   "metadata": {
    "id": "tb0ruDYlOOiM"
   },
   "outputs": [],
   "source": [
    "\n",
    "P8_full_gaba_adata = sc.read_h5ad(path_gaba+'P8_gaba_March.h5ad')\n",
    "P14_full_gaba_adata = sc.read_h5ad(path_gaba+'P14_gaba_March.h5ad')\n",
    "P17_full_gaba_adata = sc.read_h5ad(path_gaba+'P17_gaba_March.h5ad')\n",
    "P21_full_gaba_adata = sc.read_h5ad(path_gaba+'P21_gaba_March.h5ad')\n",
    "P28_full_gaba_adata = sc.read_h5ad(path_gaba+'P28_gaba_March.h5ad')\n",
    "P38_full_gaba_adata = sc.read_h5ad(path_gaba+'P38_gaba_March.h5ad')"
   ]
  },
  {
   "cell_type": "code",
   "execution_count": 4,
   "metadata": {
    "id": "Ozc72c7cjtR2"
   },
   "outputs": [],
   "source": [
    "\n",
    "P8_full_glia_adata = sc.read_h5ad(path_glia+'P8_non_analyzed.h5ad')\n",
    "P14_full_glia_adata = sc.read_h5ad(path_glia+'P14_non_analyzed.h5ad')\n",
    "P17_full_glia_adata = sc.read_h5ad(path_glia+'P17_non_analyzed.h5ad')\n",
    "P21_full_glia_adata = sc.read_h5ad(path_glia+'P21_non_analyzed.h5ad')\n",
    "P28_full_glia_adata = sc.read_h5ad(path_glia+'P28_non_analyzed.h5ad')\n",
    "P38_full_glia_adata = sc.read_h5ad(path_glia+'P38_non_analyzed.h5ad')"
   ]
  },
  {
   "cell_type": "markdown",
   "metadata": {
    "id": "BjR5rczX2y4-"
   },
   "source": [
    "def addSubclass(adata):\n",
    "  subclass = []\n",
    "  for i in list(adata.obs.Class_broad.values):\n",
    "    subclass.append(i)\n",
    "  adata.obs['Subclass'] = subclass"
   ]
  },
  {
   "cell_type": "markdown",
   "metadata": {
    "id": "nsetbLBi24OL"
   },
   "source": [
    "addSubclass(P8_full_glia_adata)\n",
    "addSubclass(P14_full_glia_adata)\n",
    "addSubclass(P17_full_glia_adata)\n",
    "addSubclass(P21_full_glia_adata)\n",
    "addSubclass(P28_full_glia_adata)\n",
    "addSubclass(P38_full_glia_adata)"
   ]
  },
  {
   "cell_type": "markdown",
   "metadata": {
    "id": "ZlXnOh0lM7BO"
   },
   "source": [
    "sc.pp.subsample(P8_full_glia_adata, 3000/len(P8_full_glia_adata.obs))\n",
    "sc.pp.subsample(P14_full_glia_adata, 3000/len(P14_full_glia_adata.obs))\n",
    "sc.pp.subsample(P17_full_glia_adata, 3000/len(P17_full_glia_adata.obs))\n",
    "sc.pp.subsample(P21_full_glia_adata, 3000/len(P21_full_glia_adata.obs))\n",
    "sc.pp.subsample(P28_full_glia_adata, 3000/len(P28_full_glia_adata.obs))\n",
    "sc.pp.subsample(P38_full_glia_adata, 3000/len(P38_full_glia_adata.obs))"
   ]
  },
  {
   "cell_type": "code",
   "execution_count": 8,
   "metadata": {
    "colab": {
     "base_uri": "https://localhost:8080/"
    },
    "id": "Ttmzw94hNgjw",
    "outputId": "2580cec5-2245-4e14-a648-a11c926ef637"
   },
   "outputs": [
    {
     "data": {
      "text/plain": [
       "(3022, 7708, 8615, 7748, 6509, 4893)"
      ]
     },
     "execution_count": 8,
     "metadata": {},
     "output_type": "execute_result"
    }
   ],
   "source": [
    "len(P8_full_glia_adata.obs), len(P14_full_glia_adata.obs), len(P17_full_glia_adata.obs), len(P21_full_glia_adata.obs), len(P28_full_glia_adata.obs), len(P38_full_glia_adata.obs)"
   ]
  },
  {
   "cell_type": "code",
   "execution_count": 9,
   "metadata": {},
   "outputs": [
    {
     "data": {
      "text/plain": [
       "(1811, 2844, 2598, 2396, 2106, 1619)"
      ]
     },
     "execution_count": 9,
     "metadata": {},
     "output_type": "execute_result"
    }
   ],
   "source": [
    "len(P8_full_gaba_adata.obs), len(P14_full_gaba_adata.obs), len(P17_full_gaba_adata.obs), len(P21_full_gaba_adata.obs), len(P28_full_gaba_adata.obs), len(P38_full_gaba_adata.obs)"
   ]
  },
  {
   "cell_type": "code",
   "execution_count": 10,
   "metadata": {
    "id": "SIqccgAzOW9E"
   },
   "outputs": [],
   "source": [
    "gaba_glia = P8_full_gaba_adata.concatenate(P14_full_gaba_adata, P17_full_gaba_adata, \n",
    "                                        P21_full_gaba_adata, P28_full_gaba_adata, P38_full_gaba_adata, \n",
    "                                        P8_full_glia_adata, P14_full_glia_adata, P17_full_glia_adata, \n",
    "                                        P21_full_glia_adata, P28_full_glia_adata, P38_full_glia_adata)"
   ]
  },
  {
   "cell_type": "code",
   "execution_count": 11,
   "metadata": {},
   "outputs": [
    {
     "name": "stderr",
     "output_type": "stream",
     "text": [
      "/Users/salwanbutrus/opt/anaconda3/lib/python3.7/site-packages/anndata/_core/anndata.py:1192: FutureWarning: is_categorical is deprecated and will be removed in a future version.  Use is_categorical_dtype instead\n",
      "  if is_string_dtype(df[key]) and not is_categorical(df[key])\n",
      "... storing 'leiden' as categorical\n",
      "... storing 'Class_broad' as categorical\n",
      "... storing 'sample' as categorical\n",
      "... storing 'Subclass' as categorical\n",
      "... storing 'Age' as categorical\n",
      "... storing 'Type' as categorical\n"
     ]
    }
   ],
   "source": [
    "gaba_glia.write_h5ad('gaba_glia_full.h5ad')"
   ]
  },
  {
   "cell_type": "code",
   "execution_count": 3,
   "metadata": {},
   "outputs": [],
   "source": [
    "gaba_glia = sc.read_h5ad('gaba_glia_full.h5ad')"
   ]
  },
  {
   "cell_type": "code",
   "execution_count": 6,
   "metadata": {},
   "outputs": [
    {
     "data": {
      "text/plain": [
       "Index(['Astro', 'Endo', 'Frem1', 'Lamp5', 'Micro', 'OD', 'OPC', 'Pvalb', 'Sst',\n",
       "       'Stac', 'VLMC', 'Vip'],\n",
       "      dtype='object')"
      ]
     },
     "execution_count": 6,
     "metadata": {},
     "output_type": "execute_result"
    }
   ],
   "source": [
    "gaba_glia.obs.Subclass.values.categories"
   ]
  },
  {
   "cell_type": "markdown",
   "metadata": {},
   "source": [
    "For Savio"
   ]
  },
  {
   "cell_type": "code",
   "execution_count": 57,
   "metadata": {
    "id": "mgo3q6qmOonK"
   },
   "outputs": [
    {
     "name": "stderr",
     "output_type": "stream",
     "text": [
      "/Users/salwanbutrus/opt/anaconda3/lib/python3.7/site-packages/anndata/_core/anndata.py:1192: FutureWarning: is_categorical is deprecated and will be removed in a future version.  Use is_categorical_dtype instead\n",
      "  if is_string_dtype(df[key]) and not is_categorical(df[key])\n",
      "... storing 'Class_broad' as categorical\n",
      "... storing 'sample' as categorical\n"
     ]
    }
   ],
   "source": [
    "#Import libraries\n",
    "import numpy as np\n",
    "import pandas as pd\n",
    "import seaborn as sns\n",
    "import scipy.stats as sp\n",
    "import matplotlib as mpl\n",
    "import matplotlib.pyplot as plt\n",
    "from matplotlib import gridspec\n",
    "import xgboost as xgb\n",
    "import pickle\n",
    "from sklearn.metrics import confusion_matrix, adjusted_rand_score\n",
    "#import plotly.graph_objects as go\n",
    "from itertools import cycle, islice\n",
    "\n",
    "import scanpy as sc\n",
    "sc.settings.verbosity = 0             # verbosity: errors (0), warnings (1), info (2), hints (3)\n",
    "sc.settings.set_figure_params(dpi=80)\n",
    "\n",
    "\n",
    "gaba_glia = sc.read_h5ad('gaba_glia_full.h5ad')\n",
    "\n",
    "P8_glut = sc.read_h5ad('P8_glut_02112021.h5ad')\n",
    "P14_glut = sc.read_h5ad('P14_glut_02112021.h5ad')\n",
    "P17_glut = sc.read_h5ad('P17_glut_12022020.h5ad')\n",
    "P21_glut = sc.read_h5ad('P21_glut_12012020.h5ad')\n",
    "P28_glut = sc.read_h5ad('P28_glut_03222021.h5ad')\n",
    "P38_glut = sc.read_h5ad('P38_glut_12012020.h5ad')\n",
    "\n",
    "gluta = P8_glut.concatenate(P14_glut, P17_glut, P21_glut, P28_glut, P38_glut)\n",
    "\n",
    "layer = []\n",
    "\n",
    "for i in range(gluta.shape[0]):\n",
    "    subclass = gluta.obs.Subclass[i]\n",
    "    if (subclass=='L2/3'): layer.append('L2/3')\n",
    "    else: layer.append(subclass[0:2])\n",
    "\n",
    "gluta.obs['Subclass'] = pd.Categorical(layer)\n",
    "\n",
    "adata = gluta.concatenate(gaba_glia)\n",
    "\n",
    "Class = []\n",
    "for i in range(adata.shape[0]):\n",
    "    if(adata.obs['Class_broad'][i] in ['Astrocytes', 'Endothelial','Microglia',\n",
    "       'OPCs', 'Oligodendrocytes', 'VLMCs']):\n",
    "        Class.append('Glia')\n",
    "        \n",
    "    else: Class.append(adata.obs['Class_broad'][i])\n",
    "\n",
    "for i in ['n_cells-0', 'highly_variable-0-0', 'means-0-0', 'dispersions-0-0', 'dispersions_norm-0-0', 'mean-0-0', 'std-0-0', 'highly_variable-1-0', 'means-1-0', 'dispersions-1-0', 'dispersions_norm-1-0', 'mean-1-0', 'std-1-0', 'highly_variable-2-0', 'means-2-0', 'dispersions-2-0', 'dispersions_norm-2-0', 'mean-2-0', 'std-2-0', 'highly_variable-3-0', 'means-3-0', 'dispersions-3-0', 'dispersions_norm-3-0', 'mean-3-0', 'std-3-0', 'highly_variable-4-0', 'means-4-0', 'dispersions-4-0', 'dispersions_norm-4-0', 'mean-4-0', 'std-4-0', 'highly_variable-5-0', 'means-5-0', 'dispersions-5-0', 'dispersions_norm-5-0', 'mean-5-0', 'std-5-0', 'n_cells-1', 'highly_variable-1', 'means-1', 'dispersions-1', 'dispersions_norm-1', 'mean-1', 'std-1', 'n_cells-10', 'highly_variable-10', 'means-10', 'dispersions-10', 'dispersions_norm-10', 'mean-10', 'std-10', 'n_cells-11', 'highly_variable-11', 'means-11', 'dispersions-11', 'dispersions_norm-11', 'mean-11', 'std-11', 'n_cells-12', 'highly_variable-12', 'means-12', 'dispersions-12', 'dispersions_norm-12', 'mean-12', 'std-12', 'n_cells-2', 'highly_variable-2', 'means-2', 'dispersions-2', 'dispersions_norm-2', 'mean-2', 'std-2', 'n_cells-3', 'highly_variable-3', 'means-3', 'dispersions-3', 'dispersions_norm-3', 'mean-3', 'std-3', 'n_cells-4', 'highly_variable-4', 'means-4', 'dispersions-4', 'dispersions_norm-4', 'mean-4', 'std-4', 'n_cells-5', 'highly_variable-5', 'means-5', 'dispersions-5', 'dispersions_norm-5', 'mean-5', 'std-5', 'n_cells-6', 'highly_variable-6', 'means-6', 'dispersions-6', 'dispersions_norm-6', 'mean-6', 'std-6', 'n_cells-7', 'highly_variable-7', 'means-7', 'dispersions-7', 'dispersions_norm-7', 'mean-7', 'std-7', 'n_cells-8', 'highly_variable-8', 'means-8', 'dispersions-8', 'dispersions_norm-8', 'mean-8', 'std-8', 'n_cells-9', 'highly_variable-9', 'means-9', 'dispersions-9', 'dispersions_norm-9', 'mean-9', 'std-9']:\n",
    "    del adata.var[i]\n",
    "\n",
    "adata.obs['Subclass'] = pd.Categorical(adata.obs['Subclass'].values)\n",
    "\n",
    "age = []\n",
    "for i in range(adata.shape[0]):\n",
    "    age.append(adata.obs['sample'][i].split('_')[0])\n",
    "    \n",
    "\n",
    "adata.obs['Age'] = pd.Categorical(age)\n",
    "\n",
    "for i in['batch', 'cluster', 'leiden', 'subclass', \n",
    "         'C26_decision', 'layer', 'Type', 'leiden_new', 'sample_new']:\n",
    "    del adata.obs[i]\n",
    "\n",
    "    \n",
    "adata.write('gluta_gaba_glia_combined.h5ad')"
   ]
  },
  {
   "cell_type": "code",
   "execution_count": null,
   "metadata": {},
   "outputs": [],
   "source": [
    "for i in ['n_cells-0', 'highly_variable-0-0', 'means-0-0', 'dispersions-0-0', 'dispersions_norm-0-0', 'mean-0-0', 'std-0-0', 'highly_variable-1-0', 'means-1-0', 'dispersions-1-0', 'dispersions_norm-1-0', 'mean-1-0', 'std-1-0', 'highly_variable-2-0', 'means-2-0', 'dispersions-2-0', 'dispersions_norm-2-0', 'mean-2-0', 'std-2-0', 'highly_variable-3-0', 'means-3-0', 'dispersions-3-0', 'dispersions_norm-3-0', 'mean-3-0', 'std-3-0', 'highly_variable-4-0', 'means-4-0', 'dispersions-4-0', 'dispersions_norm-4-0', 'mean-4-0', 'std-4-0', 'highly_variable-5-0', 'means-5-0', 'dispersions-5-0', 'dispersions_norm-5-0', 'mean-5-0', 'std-5-0', 'highly_variable-0-1', 'means-0-1', 'dispersions-0-1', 'dispersions_norm-0-1', 'mean-0-1', 'std-0-1', 'highly_variable-1-1', 'means-1-1', 'dispersions-1-1', 'dispersions_norm-1-1', 'mean-1-1', 'std-1-1', 'highly_variable-2-1', 'means-2-1', 'dispersions-2-1', 'dispersions_norm-2-1', 'mean-2-1', 'std-2-1', 'highly_variable-3-1', 'means-3-1', 'dispersions-3-1', 'dispersions_norm-3-1', 'mean-3-1', 'std-3-1', 'highly_variable-4-1', 'means-4-1', 'dispersions-4-1', 'dispersions_norm-4-1', 'mean-4-1', 'std-4-1', 'highly_variable-5-1', 'means-5-1', 'dispersions-5-1', 'dispersions_norm-5-1', 'mean-5-1', 'std-5-1', 'n_cells-0-1', 'n_cells-1-1', 'n_cells-10-1', 'highly_variable-10-1', 'means-10-1', 'dispersions-10-1', 'dispersions_norm-10-1', 'mean-10-1', 'std-10-1', 'n_cells-11-1', 'highly_variable-11-1', 'means-11-1', 'dispersions-11-1', 'dispersions_norm-11-1', 'mean-11-1', 'std-11-1', 'n_cells-2-1', 'n_cells-3-1', 'n_cells-4-1', 'n_cells-5-1', 'n_cells-6-1', 'highly_variable-6-1', 'means-6-1', 'dispersions-6-1', 'dispersions_norm-6-1', 'mean-6-1', 'std-6-1', 'n_cells-7-1', 'highly_variable-7-1', 'means-7-1', 'dispersions-7-1', 'dispersions_norm-7-1', 'mean-7-1', 'std-7-1', 'n_cells-8-1', 'highly_variable-8-1', 'means-8-1', 'dispersions-8-1', 'dispersions_norm-8-1', 'mean-8-1', 'std-8-1', 'n_cells-9-1', 'highly_variable-9-1', 'means-9-1', 'dispersions-9-1', 'dispersions_norm-9-1', 'mean-9-1', 'std-9-1']: \n",
    "    del adata.var[i]"
   ]
  }
 ],
 "metadata": {
  "accelerator": "TPU",
  "colab": {
   "collapsed_sections": [],
   "machine_shape": "hm",
   "name": "Combining AnnData.ipynb",
   "provenance": []
  },
  "kernelspec": {
   "display_name": "Python 3",
   "language": "python",
   "name": "python3"
  },
  "language_info": {
   "codemirror_mode": {
    "name": "ipython",
    "version": 3
   },
   "file_extension": ".py",
   "mimetype": "text/x-python",
   "name": "python",
   "nbconvert_exporter": "python",
   "pygments_lexer": "ipython3",
   "version": "3.7.4"
  },
  "toc": {
   "base_numbering": 1,
   "nav_menu": {},
   "number_sections": true,
   "sideBar": false,
   "skip_h1_title": true,
   "title_cell": "Table of Contents",
   "title_sidebar": "Contents",
   "toc_cell": true,
   "toc_position": {},
   "toc_section_display": false,
   "toc_window_display": true
  }
 },
 "nbformat": 4,
 "nbformat_minor": 1
}
