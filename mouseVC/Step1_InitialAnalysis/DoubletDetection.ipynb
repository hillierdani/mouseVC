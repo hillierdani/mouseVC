{
 "cells": [
  {
   "cell_type": "code",
   "execution_count": 2,
   "metadata": {},
   "outputs": [],
   "source": [
    "import scrublet as scr\n",
    "import scipy.io\n",
    "import matplotlib.pyplot as plt\n",
    "import numpy as np\n",
    "import os\n",
    "import scanpy as sc\n",
    "import pandas as pd"
   ]
  },
  {
   "cell_type": "markdown",
   "metadata": {},
   "source": [
    "Run doublet detector after initial gene and cell filtering. Then do:\n",
    "```\n",
    "adata.obs['Doublet'] = scrub.predicted_doublets_\n",
    "adata.obs['Doublet Score'] = scrub.doublet_scores_obs_\n",
    "```\n",
    "Repeat for each sample in an age then concatenate and process the age. "
   ]
  },
  {
   "cell_type": "code",
   "execution_count": 41,
   "metadata": {},
   "outputs": [],
   "source": [
    "stream = '/path/to/mouse visual cortex/'"
   ]
  },
  {
   "cell_type": "markdown",
   "metadata": {},
   "source": [
    "# P8"
   ]
  },
  {
   "cell_type": "code",
   "execution_count": 39,
   "metadata": {},
   "outputs": [
    {
     "name": "stdout",
     "output_type": "stream",
     "text": [
      "Preprocessing...\n",
      "Simulating doublets...\n",
      "Embedding transcriptomes using PCA...\n",
      "Calculating doublet scores...\n"
     ]
    },
    {
     "name": "stderr",
     "output_type": "stream",
     "text": [
      "Trying to set attribute `.obs` of view, copying.\n"
     ]
    },
    {
     "name": "stdout",
     "output_type": "stream",
     "text": [
      "Automatically set threshold at doublet score = 0.17\n",
      "Detected doublet rate = 6.0%\n",
      "Estimated detectable doublet fraction = 59.7%\n",
      "Overall doublet rate:\n",
      "\tExpected   = 6.0%\n",
      "\tEstimated  = 10.0%\n",
      "Elapsed time: 5.3 seconds\n",
      "Preprocessing...\n",
      "Simulating doublets...\n",
      "Embedding transcriptomes using PCA...\n",
      "Calculating doublet scores...\n"
     ]
    },
    {
     "name": "stderr",
     "output_type": "stream",
     "text": [
      "Trying to set attribute `.obs` of view, copying.\n"
     ]
    },
    {
     "name": "stdout",
     "output_type": "stream",
     "text": [
      "Automatically set threshold at doublet score = 0.19\n",
      "Detected doublet rate = 5.1%\n",
      "Estimated detectable doublet fraction = 53.3%\n",
      "Overall doublet rate:\n",
      "\tExpected   = 6.0%\n",
      "\tEstimated  = 9.6%\n",
      "Elapsed time: 3.7 seconds\n"
     ]
    },
    {
     "ename": "KeyboardInterrupt",
     "evalue": "",
     "output_type": "error",
     "traceback": [
      "\u001b[0;31m---------------------------------------------------------------------------\u001b[0m",
      "\u001b[0;31mKeyboardInterrupt\u001b[0m                         Traceback (most recent call last)",
      "\u001b[0;32m<ipython-input-39-7ab82bca38aa>\u001b[0m in \u001b[0;36m<module>\u001b[0;34m\u001b[0m\n\u001b[1;32m      6\u001b[0m \u001b[0msamples\u001b[0m \u001b[0;34m=\u001b[0m \u001b[0;34m[\u001b[0m\u001b[0moneA\u001b[0m\u001b[0;34m,\u001b[0m \u001b[0moneB\u001b[0m\u001b[0;34m,\u001b[0m \u001b[0mtwoA\u001b[0m\u001b[0;34m,\u001b[0m \u001b[0mtwoB\u001b[0m\u001b[0;34m]\u001b[0m\u001b[0;34m\u001b[0m\u001b[0;34m\u001b[0m\u001b[0m\n\u001b[1;32m      7\u001b[0m \u001b[0;32mfor\u001b[0m \u001b[0mi\u001b[0m \u001b[0;32min\u001b[0m \u001b[0mrange\u001b[0m\u001b[0;34m(\u001b[0m\u001b[0mlen\u001b[0m\u001b[0;34m(\u001b[0m\u001b[0msamples\u001b[0m\u001b[0;34m)\u001b[0m\u001b[0;34m)\u001b[0m\u001b[0;34m:\u001b[0m\u001b[0;34m\u001b[0m\u001b[0;34m\u001b[0m\u001b[0m\n\u001b[0;32m----> 8\u001b[0;31m     \u001b[0msc\u001b[0m\u001b[0;34m.\u001b[0m\u001b[0mpp\u001b[0m\u001b[0;34m.\u001b[0m\u001b[0mfilter_cells\u001b[0m\u001b[0;34m(\u001b[0m\u001b[0msamples\u001b[0m\u001b[0;34m[\u001b[0m\u001b[0mi\u001b[0m\u001b[0;34m]\u001b[0m\u001b[0;34m,\u001b[0m \u001b[0mmin_genes\u001b[0m\u001b[0;34m=\u001b[0m\u001b[0;36m700\u001b[0m\u001b[0;34m)\u001b[0m \u001b[0;31m#cell must have 700 non-zero-count features to stay\u001b[0m\u001b[0;34m\u001b[0m\u001b[0;34m\u001b[0m\u001b[0m\n\u001b[0m\u001b[1;32m      9\u001b[0m     \u001b[0msc\u001b[0m\u001b[0;34m.\u001b[0m\u001b[0mpp\u001b[0m\u001b[0;34m.\u001b[0m\u001b[0mfilter_genes\u001b[0m\u001b[0;34m(\u001b[0m\u001b[0msamples\u001b[0m\u001b[0;34m[\u001b[0m\u001b[0mi\u001b[0m\u001b[0;34m]\u001b[0m\u001b[0;34m,\u001b[0m \u001b[0mmin_cells\u001b[0m\u001b[0;34m=\u001b[0m\u001b[0;36m8\u001b[0m\u001b[0;34m)\u001b[0m \u001b[0;31m#gene must be in 8 cells to stay\u001b[0m\u001b[0;34m\u001b[0m\u001b[0;34m\u001b[0m\u001b[0m\n\u001b[1;32m     10\u001b[0m \u001b[0;34m\u001b[0m\u001b[0m\n",
      "\u001b[0;32m~/opt/anaconda3/lib/python3.7/site-packages/scanpy/preprocessing/_simple.py\u001b[0m in \u001b[0;36mfilter_cells\u001b[0;34m(data, min_counts, min_genes, max_counts, max_genes, inplace, copy)\u001b[0m\n\u001b[1;32m    128\u001b[0m         \u001b[0;32mif\u001b[0m \u001b[0mmin_genes\u001b[0m \u001b[0;32mis\u001b[0m \u001b[0;32mNone\u001b[0m \u001b[0;32mand\u001b[0m \u001b[0mmax_genes\u001b[0m \u001b[0;32mis\u001b[0m \u001b[0;32mNone\u001b[0m\u001b[0;34m:\u001b[0m \u001b[0madata\u001b[0m\u001b[0;34m.\u001b[0m\u001b[0mobs\u001b[0m\u001b[0;34m[\u001b[0m\u001b[0;34m'n_counts'\u001b[0m\u001b[0;34m]\u001b[0m \u001b[0;34m=\u001b[0m \u001b[0mnumber\u001b[0m\u001b[0;34m\u001b[0m\u001b[0;34m\u001b[0m\u001b[0m\n\u001b[1;32m    129\u001b[0m         \u001b[0;32melse\u001b[0m\u001b[0;34m:\u001b[0m \u001b[0madata\u001b[0m\u001b[0;34m.\u001b[0m\u001b[0mobs\u001b[0m\u001b[0;34m[\u001b[0m\u001b[0;34m'n_genes'\u001b[0m\u001b[0;34m]\u001b[0m \u001b[0;34m=\u001b[0m \u001b[0mnumber\u001b[0m\u001b[0;34m\u001b[0m\u001b[0;34m\u001b[0m\u001b[0m\n\u001b[0;32m--> 130\u001b[0;31m         \u001b[0madata\u001b[0m\u001b[0;34m.\u001b[0m\u001b[0m_inplace_subset_obs\u001b[0m\u001b[0;34m(\u001b[0m\u001b[0mcell_subset\u001b[0m\u001b[0;34m)\u001b[0m\u001b[0;34m\u001b[0m\u001b[0;34m\u001b[0m\u001b[0m\n\u001b[0m\u001b[1;32m    131\u001b[0m         \u001b[0;32mreturn\u001b[0m \u001b[0madata\u001b[0m \u001b[0;32mif\u001b[0m \u001b[0mcopy\u001b[0m \u001b[0;32melse\u001b[0m \u001b[0;32mNone\u001b[0m\u001b[0;34m\u001b[0m\u001b[0;34m\u001b[0m\u001b[0m\n\u001b[1;32m    132\u001b[0m     \u001b[0mX\u001b[0m \u001b[0;34m=\u001b[0m \u001b[0mdata\u001b[0m  \u001b[0;31m# proceed with processing the data matrix\u001b[0m\u001b[0;34m\u001b[0m\u001b[0;34m\u001b[0m\u001b[0m\n",
      "\u001b[0;32m~/opt/anaconda3/lib/python3.7/site-packages/anndata/_core/anndata.py\u001b[0m in \u001b[0;36m_inplace_subset_obs\u001b[0;34m(self, index)\u001b[0m\n\u001b[1;32m   1223\u001b[0m         \u001b[0mSame\u001b[0m \u001b[0;32mas\u001b[0m\u001b[0;31m \u001b[0m\u001b[0;31m`\u001b[0m\u001b[0madata\u001b[0m \u001b[0;34m=\u001b[0m \u001b[0madata\u001b[0m\u001b[0;34m[\u001b[0m\u001b[0mindex\u001b[0m\u001b[0;34m,\u001b[0m \u001b[0;34m:\u001b[0m\u001b[0;34m]\u001b[0m\u001b[0;31m`\u001b[0m\u001b[0;34m,\u001b[0m \u001b[0mbut\u001b[0m \u001b[0minplace\u001b[0m\u001b[0;34m.\u001b[0m\u001b[0;34m\u001b[0m\u001b[0;34m\u001b[0m\u001b[0m\n\u001b[1;32m   1224\u001b[0m         \"\"\"\n\u001b[0;32m-> 1225\u001b[0;31m         \u001b[0madata_subset\u001b[0m \u001b[0;34m=\u001b[0m \u001b[0mself\u001b[0m\u001b[0;34m[\u001b[0m\u001b[0mindex\u001b[0m\u001b[0;34m]\u001b[0m\u001b[0;34m.\u001b[0m\u001b[0mcopy\u001b[0m\u001b[0;34m(\u001b[0m\u001b[0;34m)\u001b[0m\u001b[0;34m\u001b[0m\u001b[0;34m\u001b[0m\u001b[0m\n\u001b[0m\u001b[1;32m   1226\u001b[0m         \u001b[0mself\u001b[0m\u001b[0;34m.\u001b[0m\u001b[0m_init_as_actual\u001b[0m\u001b[0;34m(\u001b[0m\u001b[0madata_subset\u001b[0m\u001b[0;34m,\u001b[0m \u001b[0mdtype\u001b[0m\u001b[0;34m=\u001b[0m\u001b[0mself\u001b[0m\u001b[0;34m.\u001b[0m\u001b[0mX\u001b[0m\u001b[0;34m.\u001b[0m\u001b[0mdtype\u001b[0m\u001b[0;34m)\u001b[0m\u001b[0;34m\u001b[0m\u001b[0;34m\u001b[0m\u001b[0m\n\u001b[1;32m   1227\u001b[0m \u001b[0;34m\u001b[0m\u001b[0m\n",
      "\u001b[0;32m~/opt/anaconda3/lib/python3.7/site-packages/anndata/_core/anndata.py\u001b[0m in \u001b[0;36mcopy\u001b[0;34m(self, filename)\u001b[0m\n\u001b[1;32m   1423\u001b[0m                 \u001b[0;31m# defined for the matrix, which is needed for some of the\u001b[0m\u001b[0;34m\u001b[0m\u001b[0;34m\u001b[0m\u001b[0;34m\u001b[0m\u001b[0m\n\u001b[1;32m   1424\u001b[0m                 \u001b[0;31m# current distributed backend.\u001b[0m\u001b[0;34m\u001b[0m\u001b[0;34m\u001b[0m\u001b[0;34m\u001b[0m\u001b[0m\n\u001b[0;32m-> 1425\u001b[0;31m                 \u001b[0mX\u001b[0m \u001b[0;34m=\u001b[0m \u001b[0m_subset\u001b[0m\u001b[0;34m(\u001b[0m\u001b[0mself\u001b[0m\u001b[0;34m.\u001b[0m\u001b[0m_adata_ref\u001b[0m\u001b[0;34m.\u001b[0m\u001b[0mX\u001b[0m\u001b[0;34m,\u001b[0m \u001b[0;34m(\u001b[0m\u001b[0mself\u001b[0m\u001b[0;34m.\u001b[0m\u001b[0m_oidx\u001b[0m\u001b[0;34m,\u001b[0m \u001b[0mself\u001b[0m\u001b[0;34m.\u001b[0m\u001b[0m_vidx\u001b[0m\u001b[0;34m)\u001b[0m\u001b[0;34m)\u001b[0m\u001b[0;34m.\u001b[0m\u001b[0mcopy\u001b[0m\u001b[0;34m(\u001b[0m\u001b[0;34m)\u001b[0m\u001b[0;34m\u001b[0m\u001b[0;34m\u001b[0m\u001b[0m\n\u001b[0m\u001b[1;32m   1426\u001b[0m             \u001b[0;32melse\u001b[0m\u001b[0;34m:\u001b[0m\u001b[0;34m\u001b[0m\u001b[0;34m\u001b[0m\u001b[0m\n\u001b[1;32m   1427\u001b[0m                 \u001b[0mX\u001b[0m \u001b[0;34m=\u001b[0m \u001b[0mself\u001b[0m\u001b[0;34m.\u001b[0m\u001b[0mX\u001b[0m\u001b[0;34m.\u001b[0m\u001b[0mcopy\u001b[0m\u001b[0;34m(\u001b[0m\u001b[0;34m)\u001b[0m\u001b[0;34m\u001b[0m\u001b[0;34m\u001b[0m\u001b[0m\n",
      "\u001b[0;32m~/opt/anaconda3/lib/python3.7/site-packages/scipy/sparse/data.py\u001b[0m in \u001b[0;36mcopy\u001b[0;34m(self)\u001b[0m\n\u001b[1;32m     89\u001b[0m \u001b[0;34m\u001b[0m\u001b[0m\n\u001b[1;32m     90\u001b[0m     \u001b[0;32mdef\u001b[0m \u001b[0mcopy\u001b[0m\u001b[0;34m(\u001b[0m\u001b[0mself\u001b[0m\u001b[0;34m)\u001b[0m\u001b[0;34m:\u001b[0m\u001b[0;34m\u001b[0m\u001b[0;34m\u001b[0m\u001b[0m\n\u001b[0;32m---> 91\u001b[0;31m         \u001b[0;32mreturn\u001b[0m \u001b[0mself\u001b[0m\u001b[0;34m.\u001b[0m\u001b[0m_with_data\u001b[0m\u001b[0;34m(\u001b[0m\u001b[0mself\u001b[0m\u001b[0;34m.\u001b[0m\u001b[0mdata\u001b[0m\u001b[0;34m.\u001b[0m\u001b[0mcopy\u001b[0m\u001b[0;34m(\u001b[0m\u001b[0;34m)\u001b[0m\u001b[0;34m,\u001b[0m \u001b[0mcopy\u001b[0m\u001b[0;34m=\u001b[0m\u001b[0;32mTrue\u001b[0m\u001b[0;34m)\u001b[0m\u001b[0;34m\u001b[0m\u001b[0;34m\u001b[0m\u001b[0m\n\u001b[0m\u001b[1;32m     92\u001b[0m \u001b[0;34m\u001b[0m\u001b[0m\n\u001b[1;32m     93\u001b[0m     \u001b[0mcopy\u001b[0m\u001b[0;34m.\u001b[0m\u001b[0m__doc__\u001b[0m \u001b[0;34m=\u001b[0m \u001b[0mspmatrix\u001b[0m\u001b[0;34m.\u001b[0m\u001b[0mcopy\u001b[0m\u001b[0;34m.\u001b[0m\u001b[0m__doc__\u001b[0m\u001b[0;34m\u001b[0m\u001b[0;34m\u001b[0m\u001b[0m\n",
      "\u001b[0;31mKeyboardInterrupt\u001b[0m: "
     ]
    }
   ],
   "source": [
    "oneA = sc.read_10x_mtx(stream + 'P8_nr_1_a/filtered_feature_bc_matrix', var_names='gene_symbols', cache=True)\n",
    "oneB = sc.read_10x_mtx(stream + 'P8_nr_1_b/filtered_feature_bc_matrix', var_names='gene_symbols', cache=True)\n",
    "twoA = sc.read_10x_mtx(stream + 'P8_nr_2_a/filtered_feature_bc_matrix', var_names='gene_symbols', cache=True)\n",
    "twoB = sc.read_10x_mtx(stream + 'P8_nr_2_b/filtered_feature_bc_matrix', var_names='gene_symbols', cache=True)\n",
    "\n",
    "samples = [oneA, oneB, twoA, twoB]\n",
    "for i in range(len(samples)):\n",
    "    sc.pp.filter_cells(samples[i], min_genes=700) #cell must have 700 non-zero-count features to stay\n",
    "    sc.pp.filter_genes(samples[i], min_cells=8) #gene must be in 8 cells to stay\n",
    "\n",
    "    mito_genes = samples[i].var_names.str.startswith('mt-') #boolean array denoting if a gene is mito\n",
    "\n",
    "    # for each cell compute fraction of counts in mito genes vs. all genes\n",
    "    # the `.A1` is only necessary as X is sparse (to transform to a dense array after summing)\n",
    "\n",
    "    # add each cell's fraction mito accounts as an obs annotation\n",
    "    samples[i].obs['percent_mito'] = np.sum(samples[i][:, mito_genes].X, axis=1).A1 / np.sum(samples[i].X, axis=1).A1\n",
    "\n",
    "    # add the total counts per cell as observations-annotation to samples[i]\n",
    "    samples[i].obs['n_counts'] = samples[i].X.sum(axis=1).A1\n",
    "\n",
    "    samples[i] = samples[i][samples[i].obs.percent_mito < 0.01, :]\n",
    "    samples[i] = samples[i][samples[i].obs['n_genes'] < 6500, :]\n",
    "    samples[i] = samples[i][samples[i].obs['n_counts'] < 40000, :]\n",
    "\n",
    "    counts_matrix = samples[i].X\n",
    "\n",
    "    scrub = scr.Scrublet(counts_matrix, expected_doublet_rate=0.06)\n",
    "\n",
    "    doublet_scores, predicted_doublets = scrub.scrub_doublets(min_cells=8, \n",
    "                                                              min_gene_variability_pctl=85, \n",
    "                                                              n_prin_comps=40)\n",
    "\n",
    "    #scrub.plot_histogram()\n",
    "    #plt.show()\n",
    "    samples[i].obs['Doublet'] = scrub.predicted_doublets_\n",
    "    samples[i].obs['Doublet Score'] = scrub.doublet_scores_obs_\n",
    "    \n",
    "P8 = samples[0].concatenate(samples[1], samples[2], samples[3], batch_categories=['P8_1a', 'P8_1b', 'P8_2a', 'P8_2b'])"
   ]
  },
  {
   "cell_type": "markdown",
   "metadata": {},
   "source": [
    "# P14"
   ]
  },
  {
   "cell_type": "code",
   "execution_count": null,
   "metadata": {},
   "outputs": [],
   "source": [
    "oneA = sc.read_10x_mtx(stream + 'P14_nr_1_a/filtered_feature_bc_matrix', var_names='gene_symbols', cache=True)\n",
    "oneB = sc.read_10x_mtx(stream + 'P14_nr_1_b/filtered_feature_bc_matrix', var_names='gene_symbols', cache=True)\n",
    "twoA = sc.read_10x_mtx(stream + 'P14_nr_2_a/filtered_feature_bc_matrix', var_names='gene_symbols', cache=True)\n",
    "twoB = sc.read_10x_mtx(stream + 'P14_nr_2_b/filtered_feature_bc_matrix', var_names='gene_symbols', cache=True)\n",
    "\n",
    "samples = [oneA, oneB, twoA, twoB]\n",
    "for i in range(len(samples)):\n",
    "    sc.pp.filter_cells(samples[i], min_genes=700) #cell must have 700 non-zero-count features to stay\n",
    "    sc.pp.filter_genes(samples[i], min_cells=8) #gene must be in 8 cells to stay\n",
    "\n",
    "    mito_genes = samples[i].var_names.str.startswith('mt-') #boolean array denoting if a gene is mito\n",
    "\n",
    "    # for each cell compute fraction of counts in mito genes vs. all genes\n",
    "    # the `.A1` is only necessary as X is sparse (to transform to a dense array after summing)\n",
    "\n",
    "    # add each cell's fraction mito accounts as an obs annotation\n",
    "    samples[i].obs['percent_mito'] = np.sum(samples[i][:, mito_genes].X, axis=1).A1 / np.sum(samples[i].X, axis=1).A1\n",
    "\n",
    "    # add the total counts per cell as observations-annotation to samples[i]\n",
    "    samples[i].obs['n_counts'] = samples[i].X.sum(axis=1).A1\n",
    "\n",
    "    samples[i] = samples[i][samples[i].obs.percent_mito < 0.01, :]\n",
    "    samples[i] = samples[i][samples[i].obs['n_genes'] < 6500, :]\n",
    "    samples[i] = samples[i][samples[i].obs['n_counts'] < 40000, :]\n",
    "\n",
    "    counts_matrix = samples[i].X\n",
    "\n",
    "    scrub = scr.Scrublet(counts_matrix, expected_doublet_rate=0.06)\n",
    "\n",
    "    doublet_scores, predicted_doublets = scrub.scrub_doublets(min_cells=8, \n",
    "                                                              min_gene_variability_pctl=85, \n",
    "                                                              n_prin_comps=40)\n",
    "\n",
    "    #scrub.plot_histogram()\n",
    "    #plt.show()\n",
    "    samples[i].obs['Doublet'] = scrub.predicted_doublets_\n",
    "    samples[i].obs['Doublet Score'] = scrub.doublet_scores_obs_\n",
    "    \n",
    "P14 = samples[0].concatenate(samples[1], samples[2], samples[3], batch_categories=['P14_1a', 'P14_1b', 'P14_2a', 'P14_2b'])"
   ]
  },
  {
   "cell_type": "markdown",
   "metadata": {},
   "source": [
    "# P17"
   ]
  },
  {
   "cell_type": "code",
   "execution_count": null,
   "metadata": {},
   "outputs": [],
   "source": [
    "oneA = sc.read_10x_mtx(stream + 'P17_nr_1_a/filtered_feature_bc_matrix', var_names='gene_symbols', cache=True)\n",
    "oneB = sc.read_10x_mtx(stream + 'P17_nr_1_b/filtered_feature_bc_matrix', var_names='gene_symbols', cache=True)\n",
    "twoA = sc.read_10x_mtx(stream + 'P17_nr_2_a/filtered_feature_bc_matrix', var_names='gene_symbols', cache=True)\n",
    "twoB = sc.read_10x_mtx(stream + 'P17_nr_2_b/filtered_feature_bc_matrix', var_names='gene_symbols', cache=True)\n",
    "\n",
    "samples = [oneA, oneB, twoA, twoB]\n",
    "for i in range(len(samples)):\n",
    "    sc.pp.filter_cells(samples[i], min_genes=700) #cell must have 700 non-zero-count features to stay\n",
    "    sc.pp.filter_genes(samples[i], min_cells=8) #gene must be in 8 cells to stay\n",
    "\n",
    "    mito_genes = samples[i].var_names.str.startswith('mt-') #boolean array denoting if a gene is mito\n",
    "\n",
    "    # for each cell compute fraction of counts in mito genes vs. all genes\n",
    "    # the `.A1` is only necessary as X is sparse (to transform to a dense array after summing)\n",
    "\n",
    "    # add each cell's fraction mito accounts as an obs annotation\n",
    "    samples[i].obs['percent_mito'] = np.sum(samples[i][:, mito_genes].X, axis=1).A1 / np.sum(samples[i].X, axis=1).A1\n",
    "\n",
    "    # add the total counts per cell as observations-annotation to samples[i]\n",
    "    samples[i].obs['n_counts'] = samples[i].X.sum(axis=1).A1\n",
    "\n",
    "    samples[i] = samples[i][samples[i].obs.percent_mito < 0.01, :]\n",
    "    samples[i] = samples[i][samples[i].obs['n_genes'] < 6500, :]\n",
    "    samples[i] = samples[i][samples[i].obs['n_counts'] < 40000, :]\n",
    "\n",
    "    counts_matrix = samples[i].X\n",
    "\n",
    "    scrub = scr.Scrublet(counts_matrix, expected_doublet_rate=0.06)\n",
    "\n",
    "    doublet_scores, predicted_doublets = scrub.scrub_doublets(min_cells=8, \n",
    "                                                              min_gene_variability_pctl=85, \n",
    "                                                              n_prin_comps=40)\n",
    "\n",
    "    #scrub.plot_histogram()\n",
    "    #plt.show()\n",
    "    samples[i].obs['Doublet'] = scrub.predicted_doublets_\n",
    "    samples[i].obs['Doublet Score'] = scrub.doublet_scores_obs_\n",
    "    \n",
    "P17 = samples[0].concatenate(samples[1], samples[2], samples[3], batch_categories=['P17_1a', 'P17_1b', 'P17_2a', 'P17_2b'])"
   ]
  },
  {
   "cell_type": "markdown",
   "metadata": {},
   "source": [
    "# P21"
   ]
  },
  {
   "cell_type": "code",
   "execution_count": null,
   "metadata": {},
   "outputs": [],
   "source": [
    "oneA = sc.read_10x_mtx(stream + 'P21_nr_1_a/filtered_feature_bc_matrix', var_names='gene_symbols', cache=True)\n",
    "oneB = sc.read_10x_mtx(stream + 'P21_nr_1_b/filtered_feature_bc_matrix', var_names='gene_symbols', cache=True)\n",
    "twoA = sc.read_10x_mtx(stream + 'P21_nr_2_a/filtered_feature_bc_matrix', var_names='gene_symbols', cache=True)\n",
    "twoB = sc.read_10x_mtx(stream + 'P21_nr_2_b/filtered_feature_bc_matrix', var_names='gene_symbols', cache=True)\n",
    "\n",
    "samples = [oneA, oneB, twoA, twoB]\n",
    "for i in range(len(samples)):\n",
    "    sc.pp.filter_cells(samples[i], min_genes=700) #cell must have 700 non-zero-count features to stay\n",
    "    sc.pp.filter_genes(samples[i], min_cells=8) #gene must be in 8 cells to stay\n",
    "\n",
    "    mito_genes = samples[i].var_names.str.startswith('mt-') #boolean array denoting if a gene is mito\n",
    "\n",
    "    # for each cell compute fraction of counts in mito genes vs. all genes\n",
    "    # the `.A1` is only necessary as X is sparse (to transform to a dense array after summing)\n",
    "\n",
    "    # add each cell's fraction mito accounts as an obs annotation\n",
    "    samples[i].obs['percent_mito'] = np.sum(samples[i][:, mito_genes].X, axis=1).A1 / np.sum(samples[i].X, axis=1).A1\n",
    "\n",
    "    # add the total counts per cell as observations-annotation to samples[i]\n",
    "    samples[i].obs['n_counts'] = samples[i].X.sum(axis=1).A1\n",
    "\n",
    "    samples[i] = samples[i][samples[i].obs.percent_mito < 0.01, :]\n",
    "    samples[i] = samples[i][samples[i].obs['n_genes'] < 6500, :]\n",
    "    samples[i] = samples[i][samples[i].obs['n_counts'] < 40000, :]\n",
    "\n",
    "    counts_matrix = samples[i].X\n",
    "\n",
    "    scrub = scr.Scrublet(counts_matrix, expected_doublet_rate=0.06)\n",
    "\n",
    "    doublet_scores, predicted_doublets = scrub.scrub_doublets(min_cells=8, \n",
    "                                                              min_gene_variability_pctl=85, \n",
    "                                                              n_prin_comps=40)\n",
    "\n",
    "    #scrub.plot_histogram()\n",
    "    #plt.show()\n",
    "    samples[i].obs['Doublet'] = scrub.predicted_doublets_\n",
    "    samples[i].obs['Doublet Score'] = scrub.doublet_scores_obs_\n",
    "    \n",
    "P21 = samples[0].concatenate(samples[1], samples[2], samples[3], batch_categories=['P21_1a', 'P21_1b', 'P21_2a', 'P21_2b'])"
   ]
  },
  {
   "cell_type": "markdown",
   "metadata": {},
   "source": [
    "# P28"
   ]
  },
  {
   "cell_type": "code",
   "execution_count": null,
   "metadata": {},
   "outputs": [],
   "source": [
    "oneA = sc.read_10x_mtx(stream + 'P28_nr_1_a/filtered_feature_bc_matrix', var_names='gene_symbols', cache=True)\n",
    "oneB = sc.read_10x_mtx(stream + 'P28_nr_1_b/filtered_feature_bc_matrix', var_names='gene_symbols', cache=True)\n",
    "twoA = sc.read_10x_mtx(stream + 'P28_nr_2_a/filtered_feature_bc_matrix', var_names='gene_symbols', cache=True)\n",
    "twoB = sc.read_10x_mtx(stream + 'P28_nr_2_b/filtered_feature_bc_matrix', var_names='gene_symbols', cache=True)\n",
    "\n",
    "samples = [oneA, oneB, twoA, twoB]\n",
    "for i in range(len(samples)):\n",
    "    sc.pp.filter_cells(samples[i], min_genes=700) #cell must have 700 non-zero-count features to stay\n",
    "    sc.pp.filter_genes(samples[i], min_cells=8) #gene must be in 8 cells to stay\n",
    "\n",
    "    mito_genes = samples[i].var_names.str.startswith('mt-') #boolean array denoting if a gene is mito\n",
    "\n",
    "    # for each cell compute fraction of counts in mito genes vs. all genes\n",
    "    # the `.A1` is only necessary as X is sparse (to transform to a dense array after summing)\n",
    "\n",
    "    # add each cell's fraction mito accounts as an obs annotation\n",
    "    samples[i].obs['percent_mito'] = np.sum(samples[i][:, mito_genes].X, axis=1).A1 / np.sum(samples[i].X, axis=1).A1\n",
    "\n",
    "    # add the total counts per cell as observations-annotation to samples[i]\n",
    "    samples[i].obs['n_counts'] = samples[i].X.sum(axis=1).A1\n",
    "\n",
    "    samples[i] = samples[i][samples[i].obs.percent_mito < 0.01, :]\n",
    "    samples[i] = samples[i][samples[i].obs['n_genes'] < 6500, :]\n",
    "    samples[i] = samples[i][samples[i].obs['n_counts'] < 40000, :]\n",
    "\n",
    "    counts_matrix = samples[i].X\n",
    "\n",
    "    scrub = scr.Scrublet(counts_matrix, expected_doublet_rate=0.06)\n",
    "\n",
    "    doublet_scores, predicted_doublets = scrub.scrub_doublets(min_cells=8, \n",
    "                                                              min_gene_variability_pctl=85, \n",
    "                                                              n_prin_comps=40)\n",
    "\n",
    "    #scrub.plot_histogram()\n",
    "    #plt.show()\n",
    "    samples[i].obs['Doublet'] = scrub.predicted_doublets_\n",
    "    samples[i].obs['Doublet Score'] = scrub.doublet_scores_obs_\n",
    "    \n",
    "P28 = samples[0].concatenate(samples[1], samples[2], samples[3], batch_categories=['P28_1a', 'P28_1b', 'P28_2a', 'P28_2b'])"
   ]
  },
  {
   "cell_type": "markdown",
   "metadata": {},
   "source": [
    "# P38"
   ]
  },
  {
   "cell_type": "code",
   "execution_count": null,
   "metadata": {},
   "outputs": [],
   "source": [
    "oneA = sc.read_10x_mtx(stream + 'P38_nr_1_a/filtered_feature_bc_matrix', var_names='gene_symbols', cache=True)\n",
    "twoA = sc.read_10x_mtx(stream + 'P38_nr_2_a/filtered_feature_bc_matrix', var_names='gene_symbols', cache=True)\n",
    "twoB = sc.read_10x_mtx(stream + 'P38_nr_2_b/filtered_feature_bc_matrix', var_names='gene_symbols', cache=True)\n",
    "\n",
    "samples = [oneA, twoA, twoB]\n",
    "for i in range(len(samples)):\n",
    "    sc.pp.filter_cells(samples[i], min_genes=700) #cell must have 700 non-zero-count features to stay\n",
    "    sc.pp.filter_genes(samples[i], min_cells=8) #gene must be in 8 cells to stay\n",
    "\n",
    "    mito_genes = samples[i].var_names.str.startswith('mt-') #boolean array denoting if a gene is mito\n",
    "\n",
    "    # for each cell compute fraction of counts in mito genes vs. all genes\n",
    "    # the `.A1` is only necessary as X is sparse (to transform to a dense array after summing)\n",
    "\n",
    "    # add each cell's fraction mito accounts as an obs annotation\n",
    "    samples[i].obs['percent_mito'] = np.sum(samples[i][:, mito_genes].X, axis=1).A1 / np.sum(samples[i].X, axis=1).A1\n",
    "\n",
    "    # add the total counts per cell as observations-annotation to samples[i]\n",
    "    samples[i].obs['n_counts'] = samples[i].X.sum(axis=1).A1\n",
    "\n",
    "    samples[i] = samples[i][samples[i].obs.percent_mito < 0.01, :]\n",
    "    samples[i] = samples[i][samples[i].obs['n_genes'] < 6500, :]\n",
    "    samples[i] = samples[i][samples[i].obs['n_counts'] < 40000, :]\n",
    "\n",
    "    counts_matrix = samples[i].X\n",
    "\n",
    "    scrub = scr.Scrublet(counts_matrix, expected_doublet_rate=0.06)\n",
    "\n",
    "    doublet_scores, predicted_doublets = scrub.scrub_doublets(min_cells=8, \n",
    "                                                              min_gene_variability_pctl=85, \n",
    "                                                              n_prin_comps=40)\n",
    "\n",
    "    #scrub.plot_histogram()\n",
    "    #plt.show()\n",
    "    samples[i].obs['Doublet'] = scrub.predicted_doublets_\n",
    "    samples[i].obs['Doublet Score'] = scrub.doublet_scores_obs_\n",
    "    \n",
    "P38 = samples[0].concatenate(samples[1], samples[2], batch_categories=['P38_1a', 'P38_2a', 'P38_2b'])"
   ]
  },
  {
   "cell_type": "markdown",
   "metadata": {},
   "source": [
    "# Merge all times"
   ]
  },
  {
   "cell_type": "code",
   "execution_count": null,
   "metadata": {},
   "outputs": [],
   "source": [
    "adata = P8.concatenate(P14, P17, P21, P28, P38, batch_categories=['P8', 'P14', 'P17', 'P21', 'P28', 'P38'])"
   ]
  },
  {
   "cell_type": "code",
   "execution_count": null,
   "metadata": {},
   "outputs": [],
   "source": [
    "adata.obs"
   ]
  },
  {
   "cell_type": "code",
   "execution_count": null,
   "metadata": {},
   "outputs": [],
   "source": [
    "adata.write_h5ad('PooledMVC_dubs.h5ad')"
   ]
  },
  {
   "cell_type": "code",
   "execution_count": null,
   "metadata": {},
   "outputs": [],
   "source": [
    "#adata is clustered object\n",
    "dubs = sc.read_h5ad('PooledMVC_dubs.h5ad')"
   ]
  },
  {
   "cell_type": "code",
   "execution_count": null,
   "metadata": {},
   "outputs": [],
   "source": [
    "adata_cells = list(adata.obs.index)\n",
    "dubs_cells = list(dubs.obs.index)\n",
    "subset_cells = list(set.intersection(set(adata_cells),set(dubs_cells)))\n",
    "adata = adata[subset_cells, :]"
   ]
  }
 ],
 "metadata": {
  "kernelspec": {
   "display_name": "Python 3",
   "language": "python",
   "name": "python3"
  },
  "language_info": {
   "codemirror_mode": {
    "name": "ipython",
    "version": 3
   },
   "file_extension": ".py",
   "mimetype": "text/x-python",
   "name": "python",
   "nbconvert_exporter": "python",
   "pygments_lexer": "ipython3",
   "version": "3.7.4"
  }
 },
 "nbformat": 4,
 "nbformat_minor": 2
}
